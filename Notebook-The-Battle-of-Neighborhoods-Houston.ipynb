{
 "cells": [
  {
   "cell_type": "markdown",
   "metadata": {},
   "source": [
    "# <center>The Battle of Neighborhoods</center>\n",
    "### <center>Applied Data Science Capstone by IBM/Coursera</center>"
   ]
  },
  {
   "cell_type": "markdown",
   "metadata": {},
   "source": [
    "## <center>Finding the best neighborhood in Houston to open a restaurant</center>\n"
   ]
  },
  {
   "cell_type": "markdown",
   "metadata": {},
   "source": [
    "## 0. Table of contents\n",
    "* [Introduction](#introduction)\n",
    "* [Data](#data)\n",
    "* [Methodology](#methodology)\n",
    "* [Analysis](#analysis)\n",
    "* [Results and Discussion](#results)\n",
    "* [Conclusion](#conclusion)"
   ]
  },
  {
   "cell_type": "markdown",
   "metadata": {},
   "source": [
    "\n",
    "\n",
    "## 1. Introduction: <a name=\"introduction\"></a>"
   ]
  },
  {
   "cell_type": "markdown",
   "metadata": {},
   "source": [
    "**Background:**        \n",
    "Houston is the most populous city in the U.S. state of Texas, fourth-most populous city in the United States, most populous city in the Southern United States. Houston is also one of the most multicultural cities in U.S., making life in Houston a wonderful multicultural experience for all. Houston is well-known for its great food. There are hundreds of great restaurants here in Houston.\n",
    "\n",
    "**Problem Description:**   \n",
    "The objective of this project is to find the best neighborhood in Houston to open a restaurant using Foursquare location data. We will use the data science and machine learning tools we know to analyze the data and get a conclusion for the stakeholder to make a decision.\n",
    "\n",
    "**Target Audience:**   \n",
    "Small business owners who want to open their own restaurants.\n"
   ]
  },
  {
   "cell_type": "markdown",
   "metadata": {},
   "source": [
    "## 2. Data: <a name=\"data\"></a>"
   ]
  },
  {
   "cell_type": "markdown",
   "metadata": {},
   "source": [
    "The data we need:  \n",
    "1. A list of Houston neighborhood data  \n",
    "**Data Source:** https://en.wikipedia.org/wiki/List_of_neighborhoods_in_Houston  \n",
    "**Description:** This Wikipedia page contains a list of neighborhoods in Houston. We will scrape and clean the data, and read it into a pandas data frame.\n",
    "\n",
    "  \n",
    "2. Geographical coordinates of each neighborhoods  \n",
    "**Data Source:** using **geopy** library (https://cocl.us/Geospatial_data)  \n",
    "**Description:** The second data provides the geographical coordinates of each neighborhood in Houston.\n",
    "\n",
    "  \n",
    "3. Venue Data using Foursquare API  \n",
    "**Data Source:** https://foursquare.com/developers/apps  \n",
    "**Description:** From Foursquare API we can get the name, category, latitude, longitude for each venue.  "
   ]
  },
  {
   "cell_type": "code",
   "execution_count": 5,
   "metadata": {},
   "outputs": [],
   "source": [
    "from geopy.geocoders import Nominatim \n",
    "\n",
    "# convert an address into latitude and longitude values\n",
    "def get_coordinates(address):\n",
    "    geolocator = Nominatim(user_agent=\"hou_explorer\")\n",
    "    location = geolocator.geocode(address)\n",
    "    latitude = location.latitude\n",
    "    longitude = location.longitude\n",
    "    print('The geograpical coordinate of {} are {}, {}.'.format(address, latitude, longitude))"
   ]
  },
  {
   "cell_type": "code",
   "execution_count": 6,
   "metadata": {},
   "outputs": [
    {
     "name": "stdout",
     "output_type": "stream",
     "text": [
      "The geograpical coordinate of Midtown, Houston, TX are 29.7432911, -95.37271125320817.\n"
     ]
    }
   ],
   "source": [
    "# test\n",
    "address = 'Midtown, Houston, TX'\n",
    "get_coordinates(address)"
   ]
  },
  {
   "cell_type": "code",
   "execution_count": null,
   "metadata": {},
   "outputs": [],
   "source": []
  }
 ],
 "metadata": {
  "kernelspec": {
   "display_name": "Python 3",
   "language": "python",
   "name": "python3"
  },
  "language_info": {
   "codemirror_mode": {
    "name": "ipython",
    "version": 3
   },
   "file_extension": ".py",
   "mimetype": "text/x-python",
   "name": "python",
   "nbconvert_exporter": "python",
   "pygments_lexer": "ipython3",
   "version": "3.7.6"
  }
 },
 "nbformat": 4,
 "nbformat_minor": 4
}
